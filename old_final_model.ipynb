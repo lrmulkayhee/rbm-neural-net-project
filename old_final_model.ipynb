{
 "cells": [
  {
   "cell_type": "markdown",
   "id": "f4373781",
   "metadata": {},
   "source": [
    "# Regularization\n",
    "\n",
    "### Fixed Hyperparams"
   ]
  },
  {
   "cell_type": "code",
   "execution_count": 1,
   "id": "f61d7546",
   "metadata": {},
   "outputs": [],
   "source": [
    "# So I am reading hidden=300, epochs = 1250, lr = 0.2, batch=2, noise=0.2, decay = 0.7\n",
    "ACTIVATION = 'sigmoid'\n",
    "BATCH_SIZE = 2\n",
    "LEARNING_RATE = 0.2\n",
    "N_EPOCHS = 1250\n",
    "N_HIDDEN = 300\n",
    "N_VISIBLE = 100\n",
    "DECAY = 0.7\n",
    "\n",
    "REG = 'l2'\n",
    "REG_LAMBDA = 0.001\n",
    "\n",
    "OUTPUT = None\n",
    "# NOISE_LEVEL = 0.2"
   ]
  },
  {
   "cell_type": "markdown",
   "id": "e1a2fee5",
   "metadata": {},
   "source": [
    "### Imports"
   ]
  },
  {
   "cell_type": "code",
   "execution_count": 2,
   "id": "47f59dae",
   "metadata": {},
   "outputs": [],
   "source": [
    "from rbm import *"
   ]
  },
  {
   "cell_type": "markdown",
   "id": "d26bf5ae",
   "metadata": {},
   "source": [
    "### Generate Base Data"
   ]
  },
  {
   "cell_type": "code",
   "execution_count": 3,
   "id": "f79e00b6",
   "metadata": {},
   "outputs": [
    {
     "name": "stdout",
     "output_type": "stream",
     "text": [
      "Shape of data: (8, 100)\n"
     ]
    }
   ],
   "source": [
    "data = generate_numerals()\n",
    "noisy_data = add_custom_noise(data)\n",
    "\n",
    "print(f\"Shape of data: {data.shape}\")"
   ]
  },
  {
   "cell_type": "markdown",
   "id": "bd0e5316",
   "metadata": {},
   "source": [
    "### Create the RBM for each Regulatization Method"
   ]
  },
  {
   "cell_type": "code",
   "execution_count": 4,
   "id": "76bfb4e7",
   "metadata": {},
   "outputs": [],
   "source": [
    "def get_accuracy(data, reconstructed_data, threshold=30):\n",
    "    correct_reconstructions = 0\n",
    "    for i in range(len(data)):\n",
    "        distance = hamming_distance(data[i], reconstructed_data[i])\n",
    "        if distance <= threshold:\n",
    "            correct_reconstructions += 1\n",
    "\n",
    "    accuracy = correct_reconstructions / len(data) * 100\n",
    "    return accuracy"
   ]
  },
  {
   "cell_type": "code",
   "execution_count": 5,
   "id": "be6f05a3",
   "metadata": {},
   "outputs": [],
   "source": [
    "# def "
   ]
  },
  {
   "cell_type": "code",
   "execution_count": 6,
   "id": "410d3a39",
   "metadata": {},
   "outputs": [],
   "source": [
    "noise_levels = np.arange(0.0, 1.0, 0.1)\n",
    "errors = []\n",
    "accs = []\n",
    "\n",
    "logging.disable(logging.INFO)\n",
    "\n",
    "for j, noise_level in enumerate(noise_levels):\n",
    "    rbm = RestrictedBoltzmannMachine(\n",
    "        n_visible=N_VISIBLE,\n",
    "        n_hidden=N_HIDDEN,\n",
    "        learning_rate=LEARNING_RATE,\n",
    "        n_epochs=N_EPOCHS,\n",
    "        batch_size=BATCH_SIZE,\n",
    "        activation=ACTIVATION,\n",
    "        regularization=REG,\n",
    "        reg_lambda=REG_LAMBDA\n",
    "    )\n",
    "    rbm.train(noisy_data)\n",
    "    \n",
    "    # Visualize original, noisy, and reconstructed data\n",
    "    reconstructed_data = rbm.reconstruct(noisy_data)\n",
    "    reconstructed_data = binarize_data(reconstructed_data)\n",
    "    \n",
    "    # Calculate and display reconstruction error\n",
    "    reconstruction_error = calculate_reconstruction_error(data, reconstructed_data)\n",
    "    accuracy = get_accuracy(data, reconstructed_data)\n",
    "    \n",
    "    errors.append(reconstruction_error)\n",
    "    accs.append(accuracy)\n",
    "    "
   ]
  },
  {
   "cell_type": "code",
   "execution_count": 7,
   "id": "033686a0",
   "metadata": {},
   "outputs": [
    {
     "name": "stdout",
     "output_type": "stream",
     "text": [
      "Reconstruction Error\n"
     ]
    },
    {
     "ename": "AttributeError",
     "evalue": "'list' object has no attribute 'keys'",
     "output_type": "error",
     "traceback": [
      "\u001b[0;31m---------------------------------------------------------------------------\u001b[0m",
      "\u001b[0;31mAttributeError\u001b[0m                            Traceback (most recent call last)",
      "\u001b[0;32m/var/folders/21/tv45btrx5hg0683sxw94yhrh0000gn/T/ipykernel_97053/3471774757.py\u001b[0m in \u001b[0;36m<module>\u001b[0;34m\u001b[0m\n\u001b[1;32m      1\u001b[0m \u001b[0mprint\u001b[0m\u001b[0;34m(\u001b[0m\u001b[0;34m\"Reconstruction Error\"\u001b[0m\u001b[0;34m)\u001b[0m\u001b[0;34m\u001b[0m\u001b[0;34m\u001b[0m\u001b[0m\n\u001b[0;32m----> 2\u001b[0;31m \u001b[0;32mfor\u001b[0m \u001b[0mreg\u001b[0m \u001b[0;32min\u001b[0m \u001b[0merrors\u001b[0m\u001b[0;34m.\u001b[0m\u001b[0mkeys\u001b[0m\u001b[0;34m(\u001b[0m\u001b[0;34m)\u001b[0m\u001b[0;34m:\u001b[0m\u001b[0;34m\u001b[0m\u001b[0;34m\u001b[0m\u001b[0m\n\u001b[0m\u001b[1;32m      3\u001b[0m     \u001b[0mprint\u001b[0m\u001b[0;34m(\u001b[0m\u001b[0;34mf\"{reg}\\t\\t{errors[reg]:.4f}\\t\\t{acc[reg]:.1f}\"\u001b[0m\u001b[0;34m)\u001b[0m\u001b[0;34m\u001b[0m\u001b[0;34m\u001b[0m\u001b[0m\n",
      "\u001b[0;31mAttributeError\u001b[0m: 'list' object has no attribute 'keys'"
     ]
    }
   ],
   "source": [
    "plt.plot(noise_levels, errors)\n",
    "plt.title(\"Reconstruction Error vs Noise Level\")\n",
    "plt.xlabel(\"Noise Level\")\n",
    "plt.ylabel(\"Reconstruction Error\");"
   ]
  },
  {
   "cell_type": "markdown",
   "id": "e51fbadf",
   "metadata": {},
   "source": [
    "| Regularization Type | Reconstruction Error | Accuracy |\n",
    "|-----|----------|-------|\n",
    "| No Regularization | 0.3637 | 12.5 \n",
    "| l1 | 0.3462 | 25.0 |\n",
    "| l2 | 0.2762 | 62.5 | "
   ]
  },
  {
   "cell_type": "code",
   "execution_count": null,
   "id": "7f86d43b",
   "metadata": {},
   "outputs": [],
   "source": [
    "plt.plot(noise_levels, errors)\n",
    "plt.title(\"Reconstruction Error vs Noise Level\")\n",
    "plt.xlabel(\"Noise Level\")\n",
    "plt.ylabel(\"Reconstruction Error\");"
   ]
  },
  {
   "cell_type": "code",
   "execution_count": null,
   "id": "14463e38",
   "metadata": {},
   "outputs": [],
   "source": []
  }
 ],
 "metadata": {
  "kernelspec": {
   "display_name": "Python 3 (ipykernel)",
   "language": "python",
   "name": "python3"
  },
  "language_info": {
   "codemirror_mode": {
    "name": "ipython",
    "version": 3
   },
   "file_extension": ".py",
   "mimetype": "text/x-python",
   "name": "python",
   "nbconvert_exporter": "python",
   "pygments_lexer": "ipython3",
   "version": "3.7.9"
  }
 },
 "nbformat": 4,
 "nbformat_minor": 5
}
