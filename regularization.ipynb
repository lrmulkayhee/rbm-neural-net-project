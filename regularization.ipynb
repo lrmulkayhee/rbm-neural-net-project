{
 "cells": [
  {
   "cell_type": "markdown",
   "id": "f4373781",
   "metadata": {},
   "source": [
    "# Regularization\n",
    "\n",
    "### Fixed Hyperparams"
   ]
  },
  {
   "cell_type": "code",
   "execution_count": 5,
   "id": "f61d7546",
   "metadata": {},
   "outputs": [],
   "source": [
    "# Namespace(activation='sigmoid', batch_size=4, learning_rate=0.1,\n",
    "#n_epochs=1000, n_hidden=150, n_visible=100, output=None, reg_lambda=0.001, regularization='normal')\n",
    "ACTIVATION = 'sigmoid'\n",
    "BATCH_SIZE = 4\n",
    "LEARNING_RATE = 0.1\n",
    "N_EPOCHS = 1000\n",
    "N_HIDDEN = 150\n",
    "N_VISIBLE = 100\n",
    "OUTPUT = None\n",
    "REG_LAMBDA = 0.001\n",
    "# NOISE_LEVEL = 0.2"
   ]
  },
  {
   "cell_type": "markdown",
   "id": "e1a2fee5",
   "metadata": {},
   "source": [
    "### Imports"
   ]
  },
  {
   "cell_type": "code",
   "execution_count": 6,
   "id": "47f59dae",
   "metadata": {},
   "outputs": [],
   "source": [
    "from rbm import *"
   ]
  },
  {
   "cell_type": "markdown",
   "id": "d26bf5ae",
   "metadata": {},
   "source": [
    "### Generate Base Data"
   ]
  },
  {
   "cell_type": "code",
   "execution_count": 7,
   "id": "f79e00b6",
   "metadata": {},
   "outputs": [
    {
     "name": "stdout",
     "output_type": "stream",
     "text": [
      "Shape of data: (8, 100)\n"
     ]
    }
   ],
   "source": [
    "data = generate_numerals()\n",
    "noisy_data = add_custom_noise(data)\n",
    "\n",
    "print(f\"Shape of data: {data.shape}\")"
   ]
  },
  {
   "cell_type": "markdown",
   "id": "bd0e5316",
   "metadata": {},
   "source": [
    "### Create the RBM for each Regulatization Method"
   ]
  },
  {
   "cell_type": "code",
   "execution_count": 9,
   "id": "76bfb4e7",
   "metadata": {},
   "outputs": [],
   "source": [
    "def get_accuracy(data, reconstructed_data, threshold=30):\n",
    "    correct_reconstructions = 0\n",
    "    for i in range(len(data)):\n",
    "        distance = hamming_distance(data[i], reconstructed_data[i])\n",
    "        if distance <= threshold:\n",
    "            correct_reconstructions += 1\n",
    "\n",
    "    accuracy = correct_reconstructions / len(data) * 100\n",
    "    return accuracy"
   ]
  },
  {
   "cell_type": "code",
   "execution_count": 10,
   "id": "410d3a39",
   "metadata": {},
   "outputs": [],
   "source": [
    "regularizations = ['normal', 'l1', 'l2']\n",
    "errors = {}\n",
    "acc = {}\n",
    "\n",
    "logging.disable(logging.INFO)\n",
    "\n",
    "for reg in regularizations:\n",
    "    rbm = RestrictedBoltzmannMachine(\n",
    "        n_visible=N_VISIBLE,\n",
    "        n_hidden=N_HIDDEN,\n",
    "        learning_rate=LEARNING_RATE,\n",
    "        n_epochs=N_EPOCHS,\n",
    "        batch_size=BATCH_SIZE,\n",
    "        activation=ACTIVATION,\n",
    "        regularization=reg,\n",
    "        reg_lambda=REG_LAMBDA\n",
    "    )\n",
    "    rbm.train(noisy_data)\n",
    "    \n",
    "    # Visualize original, noisy, and reconstructed data\n",
    "    reconstructed_data = rbm.reconstruct(noisy_data)\n",
    "    reconstructed_data = binarize_data(reconstructed_data)\n",
    "    \n",
    "    # Calculate and display reconstruction error\n",
    "    reconstruction_error = calculate_reconstruction_error(data, reconstructed_data)\n",
    "    accuracy = get_accuracy(data, reconstructed_data)\n",
    "    \n",
    "    errors[reg] = reconstruction_error\n",
    "    acc[reg] = accuracy"
   ]
  },
  {
   "cell_type": "code",
   "execution_count": 19,
   "id": "033686a0",
   "metadata": {},
   "outputs": [
    {
     "name": "stdout",
     "output_type": "stream",
     "text": [
      "Reconstruction Error\n",
      "normal\t\t0.3638\t\t12.5\n",
      "l1\t\t0.3463\t\t25.0\n",
      "l2\t\t0.2762\t\t62.5\n"
     ]
    }
   ],
   "source": [
    "print(\"Reconstruction Error\")\n",
    "for reg in errors.keys():\n",
    "    print(f\"{reg}\\t\\t{errors[reg]:.4f}\\t\\t{acc[reg]:.1f}\")"
   ]
  },
  {
   "cell_type": "markdown",
   "id": "e51fbadf",
   "metadata": {},
   "source": [
    "| Regularization Type | Reconstruction Error | Accuracy |\n",
    "|-----|----------|-------|\n",
    "| No Regularization | 0.3637 | 12.5 \n",
    "| l1 | 0.3462 | 25.0 |\n",
    "| l2 | 0.2762 | 62.5 | "
   ]
  },
  {
   "cell_type": "code",
   "execution_count": null,
   "id": "7f86d43b",
   "metadata": {},
   "outputs": [],
   "source": [
    "print(\"\")"
   ]
  }
 ],
 "metadata": {
  "kernelspec": {
   "display_name": "Python 3 (ipykernel)",
   "language": "python",
   "name": "python3"
  },
  "language_info": {
   "codemirror_mode": {
    "name": "ipython",
    "version": 3
   },
   "file_extension": ".py",
   "mimetype": "text/x-python",
   "name": "python",
   "nbconvert_exporter": "python",
   "pygments_lexer": "ipython3",
   "version": "3.7.9"
  }
 },
 "nbformat": 4,
 "nbformat_minor": 5
}
